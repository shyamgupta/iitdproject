{
 "cells": [
  {
   "cell_type": "code",
   "execution_count": 1,
   "id": "cf84ea94-7a59-4912-b4d5-0fd170f41680",
   "metadata": {},
   "outputs": [
    {
     "ename": "NameError",
     "evalue": "name 'Latitude' is not defined",
     "output_type": "error",
     "traceback": [
      "\u001b[0;31m---------------------------------------------------------------------------\u001b[0m",
      "\u001b[0;31mNameError\u001b[0m                                 Traceback (most recent call last)",
      "Cell \u001b[0;32mIn[1], line 8\u001b[0m\n\u001b[1;32m      5\u001b[0m geolocator \u001b[38;5;241m=\u001b[39m Nominatim(user_agent\u001b[38;5;241m=\u001b[39m\u001b[38;5;124m\"\u001b[39m\u001b[38;5;124mmy_geopy_app\u001b[39m\u001b[38;5;124m\"\u001b[39m)\n\u001b[1;32m      7\u001b[0m \u001b[38;5;28;01mtry\u001b[39;00m:\n\u001b[0;32m----> 8\u001b[0m     location \u001b[38;5;241m=\u001b[39m geolocator\u001b[38;5;241m.\u001b[39mreverse(\u001b[43mLatitude\u001b[49m \u001b[38;5;241m+\u001b[39m \u001b[38;5;124m\"\u001b[39m\u001b[38;5;124m,\u001b[39m\u001b[38;5;124m\"\u001b[39m \u001b[38;5;241m+\u001b[39m Longitude)\n\u001b[1;32m      9\u001b[0m     address \u001b[38;5;241m=\u001b[39m location\u001b[38;5;241m.\u001b[39mraw[\u001b[38;5;124m'\u001b[39m\u001b[38;5;124maddress\u001b[39m\u001b[38;5;124m'\u001b[39m]\n\u001b[1;32m     11\u001b[0m     \u001b[38;5;66;03m# Traverse the data\u001b[39;00m\n",
      "\u001b[0;31mNameError\u001b[0m: name 'Latitude' is not defined"
     ]
    }
   ],
   "source": [
    "from geopy.geocoders import Nominatim\n",
    "from geopy.exc import GeocoderServiceError\n",
    "\n",
    "# Initialize Nominatim API with a more descriptive user agent\n",
    "geolocator = Nominatim(user_agent=\"my_geopy_app\")\n",
    "def get_address(Latitude,Longitude):\n",
    "    try:\n",
    "        location = geolocator.reverse(Latitude + \",\" + Longitude)\n",
    "        address = location.raw['address']\n",
    "    \n",
    "        # Traverse the data\n",
    "        city = address.get('city', '')\n",
    "        state = address.get('state', '')\n",
    "        country = address.get('country', '')\n",
    "        code = address.get('country_code')\n",
    "        zipcode = address.get('postcode')\n",
    "    \n",
    "        print('City : ', city)\n",
    "        print('State : ', state)\n",
    "        print('Country : ', country)\n",
    "        print('Zip Code : ', zipcode)\n",
    "    \n",
    "    except GeocoderServiceError as e:\n",
    "        print(\"Error: \", e)"
   ]
  },
  {
   "cell_type": "code",
   "execution_count": null,
   "id": "bb9fd800-d0f5-4cb4-baf5-5b089aed4e6b",
   "metadata": {},
   "outputs": [],
   "source": [
    "    geolocator = Nominatim(user_agent=\"my_reverse_geocoding_app\") \n",
    "    # Replace \"my_reverse_geocoding_app\" with a unique and descriptive user agent string.\n"
   ]
  },
  {
   "cell_type": "code",
   "execution_count": null,
   "id": "220b560c-d578-4f69-bb2e-ac881f4b65f0",
   "metadata": {},
   "outputs": [],
   "source": [
    "    def get_address(row):\n",
    "        try:\n",
    "            location = geolocator.reverse((row['latitude'], row['longitude']), timeout=5)\n",
    "            print('Success')\n",
    "            return location.address if location else None\n",
    "        except (GeocoderTimedOut, GeocoderServiceError) as e:\n",
    "            print(f\"Error geocoding {row['latitude']}, {row['longitude']}: {e}\")\n",
    "            return None\n"
   ]
  },
  {
   "cell_type": "code",
   "execution_count": null,
   "id": "2bc86f6b-40fd-47d1-913c-7b16d0d860ce",
   "metadata": {},
   "outputs": [],
   "source": [
    "df = pd.read_excel('./dataset1.xlsx')"
   ]
  },
  {
   "cell_type": "code",
   "execution_count": null,
   "id": "6fc700c4-4c20-4f7d-a0b6-53e1670e7e48",
   "metadata": {},
   "outputs": [],
   "source": [
    "data = {'latitude': df['latitude'].tolist(), 'longitude': df['longitude'].tolist()}\n",
    "df = pd.DataFrame(data)\n",
    "df['address'] = df.apply(get_address,axis=1)"
   ]
  },
  {
   "cell_type": "code",
   "execution_count": null,
   "id": "54c624f0-816a-4c53-acc0-b093c433c737",
   "metadata": {},
   "outputs": [],
   "source": []
  }
 ],
 "metadata": {
  "kernelspec": {
   "display_name": "Python 3 (ipykernel)",
   "language": "python",
   "name": "python3"
  },
  "language_info": {
   "codemirror_mode": {
    "name": "ipython",
    "version": 3
   },
   "file_extension": ".py",
   "mimetype": "text/x-python",
   "name": "python",
   "nbconvert_exporter": "python",
   "pygments_lexer": "ipython3",
   "version": "3.12.8"
  }
 },
 "nbformat": 4,
 "nbformat_minor": 5
}
